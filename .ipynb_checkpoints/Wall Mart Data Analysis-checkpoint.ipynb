{
 "cells": [
  {
   "cell_type": "markdown",
   "metadata": {},
   "source": [
    "# Retail Analysis with Walmart Data"
   ]
  },
  {
   "cell_type": "code",
   "execution_count": 1,
   "metadata": {},
   "outputs": [],
   "source": [
    "%config Completer.use_jedi = False"
   ]
  },
  {
   "cell_type": "code",
   "execution_count": 2,
   "metadata": {},
   "outputs": [],
   "source": [
    "import warnings \n",
    "warnings.filterwarnings('ignore')"
   ]
  },
  {
   "cell_type": "code",
   "execution_count": 3,
   "metadata": {},
   "outputs": [],
   "source": [
    "import numpy as np\n",
    "import dateutil\n",
    "import math\n",
    "import datetime as dt\n",
    "import pandas as pd\n",
    "import seaborn as sns \n",
    "import matplotlib.pyplot as plt"
   ]
  },
  {
   "cell_type": "code",
   "execution_count": 4,
   "metadata": {},
   "outputs": [
    {
     "data": {
      "text/html": [
       "<div>\n",
       "<style scoped>\n",
       "    .dataframe tbody tr th:only-of-type {\n",
       "        vertical-align: middle;\n",
       "    }\n",
       "\n",
       "    .dataframe tbody tr th {\n",
       "        vertical-align: top;\n",
       "    }\n",
       "\n",
       "    .dataframe thead th {\n",
       "        text-align: right;\n",
       "    }\n",
       "</style>\n",
       "<table border=\"1\" class=\"dataframe\">\n",
       "  <thead>\n",
       "    <tr style=\"text-align: right;\">\n",
       "      <th></th>\n",
       "      <th>Store</th>\n",
       "      <th>Date</th>\n",
       "      <th>Weekly_Sales</th>\n",
       "      <th>Holiday_Flag</th>\n",
       "      <th>Temperature</th>\n",
       "      <th>Fuel_Price</th>\n",
       "      <th>CPI</th>\n",
       "      <th>Unemployment</th>\n",
       "    </tr>\n",
       "  </thead>\n",
       "  <tbody>\n",
       "    <tr>\n",
       "      <th>0</th>\n",
       "      <td>1</td>\n",
       "      <td>05-02-2010</td>\n",
       "      <td>1643690.90</td>\n",
       "      <td>0</td>\n",
       "      <td>42.31</td>\n",
       "      <td>2.572</td>\n",
       "      <td>211.096358</td>\n",
       "      <td>8.106</td>\n",
       "    </tr>\n",
       "    <tr>\n",
       "      <th>1</th>\n",
       "      <td>1</td>\n",
       "      <td>12-02-2010</td>\n",
       "      <td>1641957.44</td>\n",
       "      <td>1</td>\n",
       "      <td>38.51</td>\n",
       "      <td>2.548</td>\n",
       "      <td>211.242170</td>\n",
       "      <td>8.106</td>\n",
       "    </tr>\n",
       "    <tr>\n",
       "      <th>2</th>\n",
       "      <td>1</td>\n",
       "      <td>19-02-2010</td>\n",
       "      <td>1611968.17</td>\n",
       "      <td>0</td>\n",
       "      <td>39.93</td>\n",
       "      <td>2.514</td>\n",
       "      <td>211.289143</td>\n",
       "      <td>8.106</td>\n",
       "    </tr>\n",
       "    <tr>\n",
       "      <th>3</th>\n",
       "      <td>1</td>\n",
       "      <td>26-02-2010</td>\n",
       "      <td>1409727.59</td>\n",
       "      <td>0</td>\n",
       "      <td>46.63</td>\n",
       "      <td>2.561</td>\n",
       "      <td>211.319643</td>\n",
       "      <td>8.106</td>\n",
       "    </tr>\n",
       "    <tr>\n",
       "      <th>4</th>\n",
       "      <td>1</td>\n",
       "      <td>05-03-2010</td>\n",
       "      <td>1554806.68</td>\n",
       "      <td>0</td>\n",
       "      <td>46.50</td>\n",
       "      <td>2.625</td>\n",
       "      <td>211.350143</td>\n",
       "      <td>8.106</td>\n",
       "    </tr>\n",
       "  </tbody>\n",
       "</table>\n",
       "</div>"
      ],
      "text/plain": [
       "   Store        Date  Weekly_Sales  Holiday_Flag  Temperature  Fuel_Price  \\\n",
       "0      1  05-02-2010    1643690.90             0        42.31       2.572   \n",
       "1      1  12-02-2010    1641957.44             1        38.51       2.548   \n",
       "2      1  19-02-2010    1611968.17             0        39.93       2.514   \n",
       "3      1  26-02-2010    1409727.59             0        46.63       2.561   \n",
       "4      1  05-03-2010    1554806.68             0        46.50       2.625   \n",
       "\n",
       "          CPI  Unemployment  \n",
       "0  211.096358         8.106  \n",
       "1  211.242170         8.106  \n",
       "2  211.289143         8.106  \n",
       "3  211.319643         8.106  \n",
       "4  211.350143         8.106  "
      ]
     },
     "execution_count": 4,
     "metadata": {},
     "output_type": "execute_result"
    }
   ],
   "source": [
    "##reading the data\n",
    "walmart_data = pd.read_csv('Walmart_Store_sales.csv')\n",
    "walmart_data.head()"
   ]
  },
  {
   "cell_type": "code",
   "execution_count": 6,
   "metadata": {},
   "outputs": [
    {
     "data": {
      "text/plain": [
       "Store           0\n",
       "Date            0\n",
       "Weekly_Sales    0\n",
       "Holiday_Flag    0\n",
       "Temperature     0\n",
       "Fuel_Price      0\n",
       "CPI             0\n",
       "Unemployment    0\n",
       "dtype: int64"
      ]
     },
     "execution_count": 6,
     "metadata": {},
     "output_type": "execute_result"
    }
   ],
   "source": [
    "##finding out the null values\n",
    "walmart_data.isnull().sum()"
   ]
  },
  {
   "cell_type": "code",
   "execution_count": 7,
   "metadata": {},
   "outputs": [
    {
     "name": "stdout",
     "output_type": "stream",
     "text": [
      "<class 'pandas.core.frame.DataFrame'>\n",
      "RangeIndex: 6435 entries, 0 to 6434\n",
      "Data columns (total 8 columns):\n",
      " #   Column        Non-Null Count  Dtype  \n",
      "---  ------        --------------  -----  \n",
      " 0   Store         6435 non-null   int64  \n",
      " 1   Date          6435 non-null   object \n",
      " 2   Weekly_Sales  6435 non-null   float64\n",
      " 3   Holiday_Flag  6435 non-null   int64  \n",
      " 4   Temperature   6435 non-null   float64\n",
      " 5   Fuel_Price    6435 non-null   float64\n",
      " 6   CPI           6435 non-null   float64\n",
      " 7   Unemployment  6435 non-null   float64\n",
      "dtypes: float64(5), int64(2), object(1)\n",
      "memory usage: 402.3+ KB\n"
     ]
    }
   ],
   "source": [
    "##finding the data dypes\n",
    "walmart_data.info()"
   ]
  },
  {
   "cell_type": "code",
   "execution_count": 8,
   "metadata": {},
   "outputs": [],
   "source": [
    "#changing the data type of Date variable \n",
    "walmart_data['Date'] = pd.to_datetime(walmart_data['Date'])\n",
    "walmart_data['Store'] = walmart_data['Store'].astype('category')"
   ]
  },
  {
   "cell_type": "markdown",
   "metadata": {},
   "source": [
    "#### Basic Statistics tasks"
   ]
  },
  {
   "cell_type": "code",
   "execution_count": 9,
   "metadata": {},
   "outputs": [
    {
     "data": {
      "text/html": [
       "<div>\n",
       "<style scoped>\n",
       "    .dataframe tbody tr th:only-of-type {\n",
       "        vertical-align: middle;\n",
       "    }\n",
       "\n",
       "    .dataframe tbody tr th {\n",
       "        vertical-align: top;\n",
       "    }\n",
       "\n",
       "    .dataframe thead th {\n",
       "        text-align: right;\n",
       "    }\n",
       "</style>\n",
       "<table border=\"1\" class=\"dataframe\">\n",
       "  <thead>\n",
       "    <tr style=\"text-align: right;\">\n",
       "      <th></th>\n",
       "      <th>Store</th>\n",
       "      <th>Weekly_Sales</th>\n",
       "    </tr>\n",
       "  </thead>\n",
       "  <tbody>\n",
       "    <tr>\n",
       "      <th>19</th>\n",
       "      <td>20</td>\n",
       "      <td>3.013978e+08</td>\n",
       "    </tr>\n",
       "    <tr>\n",
       "      <th>3</th>\n",
       "      <td>4</td>\n",
       "      <td>2.995440e+08</td>\n",
       "    </tr>\n",
       "    <tr>\n",
       "      <th>13</th>\n",
       "      <td>14</td>\n",
       "      <td>2.889999e+08</td>\n",
       "    </tr>\n",
       "    <tr>\n",
       "      <th>12</th>\n",
       "      <td>13</td>\n",
       "      <td>2.865177e+08</td>\n",
       "    </tr>\n",
       "    <tr>\n",
       "      <th>1</th>\n",
       "      <td>2</td>\n",
       "      <td>2.753824e+08</td>\n",
       "    </tr>\n",
       "    <tr>\n",
       "      <th>9</th>\n",
       "      <td>10</td>\n",
       "      <td>2.716177e+08</td>\n",
       "    </tr>\n",
       "    <tr>\n",
       "      <th>26</th>\n",
       "      <td>27</td>\n",
       "      <td>2.538559e+08</td>\n",
       "    </tr>\n",
       "  </tbody>\n",
       "</table>\n",
       "</div>"
      ],
      "text/plain": [
       "   Store  Weekly_Sales\n",
       "19    20  3.013978e+08\n",
       "3      4  2.995440e+08\n",
       "13    14  2.889999e+08\n",
       "12    13  2.865177e+08\n",
       "1      2  2.753824e+08\n",
       "9     10  2.716177e+08\n",
       "26    27  2.538559e+08"
      ]
     },
     "execution_count": 9,
     "metadata": {},
     "output_type": "execute_result"
    }
   ],
   "source": [
    "#Which store has maximum sales\n",
    "store_data = walmart_data.groupby('Store')['Weekly_Sales'].sum().reset_index()\n",
    "store_data.sort_values('Weekly_Sales',ascending = False,inplace = True)\n",
    "store_data.head(7)"
   ]
  },
  {
   "cell_type": "code",
   "execution_count": 10,
   "metadata": {},
   "outputs": [
    {
     "data": {
      "image/png": "[encoded data removed]",
      "text/plain": [
       "<Figure size 1080x1440 with 1 Axes>"
      ]
     },
     "metadata": {
      "needs_background": "light"
     },
     "output_type": "display_data"
    }
   ],
   "source": [
    "plt.figure(figsize = (15,20))\n",
    "sns.barplot(data = store_data,x = 'Weekly_Sales',y = 'Store',palette = 'Greens_d',order = store_data.sort_values('Weekly_Sales').Store)\n",
    "plt.gcf().axes[0].xaxis.get_major_formatter().set_scientific(False)\n",
    "plt.xlabel('Total Sales', fontsize = 14)\n",
    "plt.ylabel('Store Number',fontsize = 15)\n",
    "plt.title('Total Slaes of Each Store of year 2010, 2011 and 2012\\n',fontsize = 18)\n",
    "plt.show()"
   ]
  },
  {
   "cell_type": "code",
   "execution_count": 11,
   "metadata": {},
   "outputs": [
    {
     "data": {
      "text/html": [
       "<div>\n",
       "<style scoped>\n",
       "    .dataframe tbody tr th:only-of-type {\n",
       "        vertical-align: middle;\n",
       "    }\n",
       "\n",
       "    .dataframe tbody tr th {\n",
       "        vertical-align: top;\n",
       "    }\n",
       "\n",
       "    .dataframe thead th {\n",
       "        text-align: right;\n",
       "    }\n",
       "</style>\n",
       "<table border=\"1\" class=\"dataframe\">\n",
       "  <thead>\n",
       "    <tr style=\"text-align: right;\">\n",
       "      <th></th>\n",
       "      <th>Store</th>\n",
       "      <th>Mean</th>\n",
       "      <th>Standard_Deviation</th>\n",
       "      <th>Coefricient of Variation</th>\n",
       "    </tr>\n",
       "  </thead>\n",
       "  <tbody>\n",
       "    <tr>\n",
       "      <th>13</th>\n",
       "      <td>14</td>\n",
       "      <td>2020978.401</td>\n",
       "      <td>317569.949</td>\n",
       "      <td>6.363884</td>\n",
       "    </tr>\n",
       "    <tr>\n",
       "      <th>9</th>\n",
       "      <td>10</td>\n",
       "      <td>1899424.573</td>\n",
       "      <td>302262.063</td>\n",
       "      <td>6.284032</td>\n",
       "    </tr>\n",
       "    <tr>\n",
       "      <th>19</th>\n",
       "      <td>20</td>\n",
       "      <td>2107676.870</td>\n",
       "      <td>275900.563</td>\n",
       "      <td>7.639263</td>\n",
       "    </tr>\n",
       "    <tr>\n",
       "      <th>3</th>\n",
       "      <td>4</td>\n",
       "      <td>2094712.961</td>\n",
       "      <td>266201.442</td>\n",
       "      <td>7.868902</td>\n",
       "    </tr>\n",
       "    <tr>\n",
       "      <th>12</th>\n",
       "      <td>13</td>\n",
       "      <td>2003620.306</td>\n",
       "      <td>265506.996</td>\n",
       "      <td>7.546394</td>\n",
       "    </tr>\n",
       "  </tbody>\n",
       "</table>\n",
       "</div>"
      ],
      "text/plain": [
       "   Store         Mean  Standard_Deviation  Coefricient of Variation\n",
       "13    14  2020978.401          317569.949                  6.363884\n",
       "9     10  1899424.573          302262.063                  6.284032\n",
       "19    20  2107676.870          275900.563                  7.639263\n",
       "3      4  2094712.961          266201.442                  7.868902\n",
       "12    13  2003620.306          265506.996                  7.546394"
      ]
     },
     "execution_count": 11,
     "metadata": {},
     "output_type": "execute_result"
    }
   ],
   "source": [
    "#Which store has maximum standard deviation i.e., \n",
    "#the sales vary a lot. Also, find out the coefficient of mean to standard deviation\n",
    "sd_data = walmart_data.groupby('Store')['Weekly_Sales'].agg(['mean','std']).round(3).reset_index()\n",
    "sd_data['Coefricient of Variation'] = sd_data['mean'] / sd_data['std']\n",
    "sd_data.rename(columns= {'mean':'Mean','std':'Standard_Deviation'},inplace = True)\n",
    "sd_data.sort_values('Standard_Deviation',ascending = False,inplace = True)\n",
    "\n",
    "sd_data.head()\n"
   ]
  },
  {
   "cell_type": "code",
   "execution_count": 12,
   "metadata": {},
   "outputs": [],
   "source": [
    "##for plotting the graph we need to change the data type of store from integer to string\n",
    "sd_data.Store = sd_data.Store.astype(str)"
   ]
  },
  {
   "cell_type": "code",
   "execution_count": 13,
   "metadata": {},
   "outputs": [
    {
     "data": {
      "image/png": "[encoded data removed]",
      "text/plain": [
       "<Figure size 936x360 with 1 Axes>"
      ]
     },
     "metadata": {},
     "output_type": "display_data"
    }
   ],
   "source": [
    "sns.set_style(\"darkgrid\")\n",
    "plt.figure(figsize = (13,5))\n",
    "sns.barplot(data = sd_data[0:10],x='Standard_Deviation',y = 'Store',palette = 'twilight' )\n",
    "plt.xlabel('Standard Deviation',fontsize = 12,labelpad = 15)\n",
    "plt.ylabel('Store Number',fontsize = 12,labelpad = 15)\n",
    "plt.title('Top 10 Store with largest Standard Deviation of Sales\\n',fontsize = 15)\n",
    "plt.show()"
   ]
  },
  {
   "cell_type": "markdown",
   "metadata": {},
   "source": [
    "#### From the graph:\n",
    "-> It is shown that store 14 has weekly sales with largest standard deviation."
   ]
  },
  {
   "cell_type": "code",
   "execution_count": 14,
   "metadata": {},
   "outputs": [],
   "source": [
    "store_1 = walmart_data[walmart_data['Store'] == 1]"
   ]
  },
  {
   "cell_type": "code",
   "execution_count": 15,
   "metadata": {},
   "outputs": [
    {
     "name": "stdout",
     "output_type": "stream",
     "text": [
      "1555264.3975524476\n",
      "3454859987415.0205\n",
      "11.958260743101398\n"
     ]
    }
   ],
   "source": [
    "mean = store_1['Weekly_Sales'].mean()\n",
    "summation = 0\n",
    "for i in store_1['Weekly_Sales']:\n",
    "    sum_tot = (i - mean)**2\n",
    "    summation = summation + sum_tot\n",
    "print(mean)\n",
    "print(summation)\n",
    "figure = summation/len(store_1['Weekly_Sales'])\n",
    "sd = (summation/figure)**(1/2)\n",
    "print(sd)"
   ]
  },
  {
   "cell_type": "code",
   "execution_count": 16,
   "metadata": {},
   "outputs": [
    {
     "name": "stdout",
     "output_type": "stream",
     "text": [
      "The mean of weekly sales of all the store combined = 1041256.3802\n"
     ]
    }
   ],
   "source": [
    "#Some holidays have a negative impact on sales.\n",
    "#Find out holidays which have higher sales than the mean sales in non-holiday season for all stores together\n",
    "####\n",
    "#finding the mean sale of all store for non holiday period\n",
    "mean_sale_value = walmart_data[walmart_data['Holiday_Flag'] == 0].mean()['Weekly_Sales']\n",
    "print('The mean of weekly sales of all the store combined = ' + str(round(mean_sale_value,4)))"
   ]
  },
  {
   "cell_type": "code",
   "execution_count": 17,
   "metadata": {},
   "outputs": [
    {
     "name": "stdout",
     "output_type": "stream",
     "text": [
      "Number of weeks that contains holidays are = 450\n"
     ]
    }
   ],
   "source": [
    "holiday_data = walmart_data[walmart_data['Holiday_Flag'] == 1]\n",
    "print('Number of weeks that contains holidays are = {}'.format(holiday_data.shape[0]))"
   ]
  },
  {
   "cell_type": "code",
   "execution_count": 18,
   "metadata": {},
   "outputs": [
    {
     "data": {
      "text/html": [
       "<div>\n",
       "<style scoped>\n",
       "    .dataframe tbody tr th:only-of-type {\n",
       "        vertical-align: middle;\n",
       "    }\n",
       "\n",
       "    .dataframe tbody tr th {\n",
       "        vertical-align: top;\n",
       "    }\n",
       "\n",
       "    .dataframe thead th {\n",
       "        text-align: right;\n",
       "    }\n",
       "</style>\n",
       "<table border=\"1\" class=\"dataframe\">\n",
       "  <thead>\n",
       "    <tr style=\"text-align: right;\">\n",
       "      <th></th>\n",
       "      <th>Store</th>\n",
       "      <th>Date</th>\n",
       "      <th>Weekly_Sales</th>\n",
       "      <th>Holiday_Flag</th>\n",
       "      <th>Temperature</th>\n",
       "      <th>Fuel_Price</th>\n",
       "      <th>CPI</th>\n",
       "      <th>Unemployment</th>\n",
       "    </tr>\n",
       "  </thead>\n",
       "  <tbody>\n",
       "    <tr>\n",
       "      <th>1</th>\n",
       "      <td>1</td>\n",
       "      <td>2010-12-02</td>\n",
       "      <td>1641957.44</td>\n",
       "      <td>1</td>\n",
       "      <td>38.51</td>\n",
       "      <td>2.548</td>\n",
       "      <td>211.242170</td>\n",
       "      <td>8.106</td>\n",
       "    </tr>\n",
       "    <tr>\n",
       "      <th>31</th>\n",
       "      <td>1</td>\n",
       "      <td>2010-10-09</td>\n",
       "      <td>1507460.69</td>\n",
       "      <td>1</td>\n",
       "      <td>78.69</td>\n",
       "      <td>2.565</td>\n",
       "      <td>211.495190</td>\n",
       "      <td>7.787</td>\n",
       "    </tr>\n",
       "    <tr>\n",
       "      <th>42</th>\n",
       "      <td>1</td>\n",
       "      <td>2010-11-26</td>\n",
       "      <td>1955624.11</td>\n",
       "      <td>1</td>\n",
       "      <td>64.52</td>\n",
       "      <td>2.735</td>\n",
       "      <td>211.748433</td>\n",
       "      <td>7.838</td>\n",
       "    </tr>\n",
       "    <tr>\n",
       "      <th>47</th>\n",
       "      <td>1</td>\n",
       "      <td>2010-12-31</td>\n",
       "      <td>1367320.01</td>\n",
       "      <td>1</td>\n",
       "      <td>48.43</td>\n",
       "      <td>2.943</td>\n",
       "      <td>211.404932</td>\n",
       "      <td>7.838</td>\n",
       "    </tr>\n",
       "    <tr>\n",
       "      <th>53</th>\n",
       "      <td>1</td>\n",
       "      <td>2011-11-02</td>\n",
       "      <td>1649614.93</td>\n",
       "      <td>1</td>\n",
       "      <td>36.39</td>\n",
       "      <td>3.022</td>\n",
       "      <td>212.936705</td>\n",
       "      <td>7.742</td>\n",
       "    </tr>\n",
       "  </tbody>\n",
       "</table>\n",
       "</div>"
      ],
      "text/plain": [
       "   Store       Date  Weekly_Sales  Holiday_Flag  Temperature  Fuel_Price  \\\n",
       "1      1 2010-12-02    1641957.44             1        38.51       2.548   \n",
       "31     1 2010-10-09    1507460.69             1        78.69       2.565   \n",
       "42     1 2010-11-26    1955624.11             1        64.52       2.735   \n",
       "47     1 2010-12-31    1367320.01             1        48.43       2.943   \n",
       "53     1 2011-11-02    1649614.93             1        36.39       3.022   \n",
       "\n",
       "           CPI  Unemployment  \n",
       "1   211.242170         8.106  \n",
       "31  211.495190         7.787  \n",
       "42  211.748433         7.838  \n",
       "47  211.404932         7.838  \n",
       "53  212.936705         7.742  "
      ]
     },
     "execution_count": 18,
     "metadata": {},
     "output_type": "execute_result"
    }
   ],
   "source": [
    "##creating the data frame which containing the data of more than average weekly slaes on holiday\n",
    "sale_holiday= holiday_data.loc[holiday_data['Weekly_Sales'] > mean_sale_value]\n",
    "sale_holiday.head()"
   ]
  },
  {
   "cell_type": "code",
   "execution_count": 19,
   "metadata": {},
   "outputs": [
    {
     "name": "stdout",
     "output_type": "stream",
     "text": [
      "The number of weeks which contined holidays and had more weekly sales than mean  are 220\n"
     ]
    }
   ],
   "source": [
    "print('The number of weeks which contined holidays and had more weekly sales than mean  are '+str(sale_holiday.shape[0]))"
   ]
  },
  {
   "cell_type": "code",
   "execution_count": 20,
   "metadata": {},
   "outputs": [
    {
     "data": {
      "image/png": "[encoded data removed]",
      "text/plain": [
       "<Figure size 1440x360 with 1 Axes>"
      ]
     },
     "metadata": {},
     "output_type": "display_data"
    }
   ],
   "source": [
    "sns.set_style(\"whitegrid\")\n",
    "plt.figure(figsize = (20,5))\n",
    "sns.countplot(x = 'Store',data = sale_holiday,order = sale_holiday['Store'].value_counts().index,palette =\"viridis\")\n",
    "plt.title('Store which had sales more than average in the week of more that had holidays\\n')\n",
    "plt.show()"
   ]
  },
  {
   "cell_type": "markdown",
   "metadata": {},
   "source": [
    "#### From the graph we conclude that :\n",
    "-> Store 38 to store 29 do not have more sales than average in the week of holidays \n",
    "\n",
    "-> Store 1 to store 6 from the graph have maximum number of weeks containing holiday (i.e. 10)  in which sales were more than.\n",
    "average  "
   ]
  },
  {
   "cell_type": "code",
   "execution_count": 21,
   "metadata": {},
   "outputs": [],
   "source": [
    "#Provide a monthly and semester view of sales in units and give insights\n",
    "#2010-02-05 to 2012-11-01 the data covers sales from 5th Feb 2010 - 1 NOvember 2012"
   ]
  },
  {
   "cell_type": "code",
   "execution_count": 22,
   "metadata": {},
   "outputs": [
    {
     "name": "stdout",
     "output_type": "stream",
     "text": [
      "The shape of walmart data = (6435, 8)\n",
      "The number of rows in data_2010 = 2160\n",
      "The number of rows in data_2011 = 2340\n",
      "The number of rows in data_2012 = 1935\n",
      "Total number of rows = 6435\n"
     ]
    }
   ],
   "source": [
    "##analysing the 3 year data month wise \n",
    "print('The shape of walmart data = {}'.format(walmart_data.shape))\n",
    "data_2010 = walmart_data.loc[walmart_data.Date.dt.year == 2010]\n",
    "print('The number of rows in data_2010 = {}'.format(data_2010.shape[0]))\n",
    "data_2011 = walmart_data.loc[walmart_data.Date.dt.year == 2011]\n",
    "print('The number of rows in data_2011 = {}'.format(data_2011.shape[0]))\n",
    "data_2012 = walmart_data.loc[walmart_data.Date.dt.year == 2012]\n",
    "print('The number of rows in data_2012 = {}'.format(data_2012.shape[0]))\n",
    "##checking if the data is devided correctly \n",
    "print('Total number of rows = ' + str(data_2010.shape[0]+data_2011.shape[0]+data_2012.shape[0]))"
   ]
  },
  {
   "cell_type": "code",
   "execution_count": 23,
   "metadata": {},
   "outputs": [
    {
     "data": {
      "image/png": "[encoded data removed]",
      "text/plain": [
       "<Figure size 1080x360 with 1 Axes>"
      ]
     },
     "metadata": {},
     "output_type": "display_data"
    }
   ],
   "source": [
    "plt.figure(figsize=(15,5))\n",
    "months = ['January','February','March','April','May','June','July','August','September','October','November','December']\n",
    "sns.barplot(x = walmart_data['Date'].dt.month_name(locale = 'English'),\n",
    "            y = 'Weekly_Sales',hue = walmart_data['Date'].dt.year,\n",
    "            data = walmart_data,order = months)\n",
    "plt.gcf().axes[0].yaxis.get_major_formatter().set_scientific(False)\n",
    "plt.title('Monthly Analysis of total sale in year 2010,2011 and 2012\\n')\n",
    "plt.ylabel('Total Monthly Sale')\n",
    "plt.xlabel('Months')\n",
    "plt.xticks(rotation = 70)\n",
    "plt.show()"
   ]
  },
  {
   "cell_type": "code",
   "execution_count": 24,
   "metadata": {},
   "outputs": [],
   "source": [
    "##analysing the semester wise sale\n",
    "def semFunc(df):\n",
    "    monthly_df = df.groupby(df['Date'].dt.month)['Weekly_Sales'].sum().reset_index() \n",
    "    sem1_tot = monthly_df.iloc[0:6,1].sum()\n",
    "    sem2_tot = monthly_df.iloc[6:,1].sum()\n",
    "    return (monthly_df,sem1_tot,sem2_tot)"
   ]
  },
  {
   "cell_type": "code",
   "execution_count": 25,
   "metadata": {},
   "outputs": [],
   "source": [
    "####creating the data frame \n",
    "data = {'Semesters':['2010 - Sem 1','2010 - Sem 2','2011 - Sem 1','2011 - Sem 2','2012 - Sem 1','2012 - Sem 2'],\n",
    "       'Sales':[semFunc(data_2010)[1],semFunc(data_2010)[2],semFunc(data_2011)[1],semFunc(data_2011)[2],\n",
    "               semFunc(data_2012)[1],semFunc(data_2012)[2]]}\n",
    "df = pd.DataFrame(data)\n",
    "df.sort_values('Sales',inplace = True,ascending = False)\n"
   ]
  },
  {
   "cell_type": "code",
   "execution_count": 26,
   "metadata": {},
   "outputs": [
    {
     "data": {
      "image/png": "[encoded data removed]",
      "text/plain": [
       "<Figure size 864x360 with 1 Axes>"
      ]
     },
     "metadata": {},
     "output_type": "display_data"
    }
   ],
   "source": [
    "##plotting the bar graph\n",
    "plt.figure(figsize = (12,5))\n",
    "sns.barplot(x = 'Semesters',y = 'Sales',data = df,palette = \"magma\")\n",
    "plt.gcf().axes[0].yaxis.get_major_formatter().set_scientific(False)\n",
    "plt.title('Analysis of Total Sales Semester Wise')\n",
    "plt.gcf().axes[0].yaxis.get_major_formatter().set_scientific(False)\n",
    "\n",
    "plt.show()"
   ]
  },
  {
   "cell_type": "markdown",
   "metadata": {},
   "source": [
    "#### From the graph :\n",
    "->We See that Sales in Second part of the year are higher than the first part of the year for the year 2010 and 2011 \n",
    "\n",
    "->Maximum sales were in semester 2 of year 2011\n",
    "\n",
    "->Minimum sales were in semester 2 of year 2012\n",
    "\n",
    "->Negative groth rate is observed in second half of year 2012"
   ]
  },
  {
   "cell_type": "code",
   "execution_count": 27,
   "metadata": {},
   "outputs": [],
   "source": [
    "#Which store/s has good quarterly growth rate in Q3’2012\n",
    "#July, August, and September (Q3)"
   ]
  },
  {
   "cell_type": "markdown",
   "metadata": {},
   "source": [
    "##### Formula used  -> (Q3-Q2)/Q2"
   ]
  },
  {
   "cell_type": "code",
   "execution_count": 28,
   "metadata": {},
   "outputs": [
    {
     "data": {
      "text/html": [
       "<div>\n",
       "<style scoped>\n",
       "    .dataframe tbody tr th:only-of-type {\n",
       "        vertical-align: middle;\n",
       "    }\n",
       "\n",
       "    .dataframe tbody tr th {\n",
       "        vertical-align: top;\n",
       "    }\n",
       "\n",
       "    .dataframe thead th {\n",
       "        text-align: right;\n",
       "    }\n",
       "</style>\n",
       "<table border=\"1\" class=\"dataframe\">\n",
       "  <thead>\n",
       "    <tr style=\"text-align: right;\">\n",
       "      <th></th>\n",
       "      <th>Store</th>\n",
       "      <th>Date</th>\n",
       "      <th>Weekly_Sales</th>\n",
       "      <th>Holiday_Flag</th>\n",
       "      <th>Temperature</th>\n",
       "      <th>Fuel_Price</th>\n",
       "      <th>CPI</th>\n",
       "      <th>Unemployment</th>\n",
       "    </tr>\n",
       "  </thead>\n",
       "  <tbody>\n",
       "    <tr>\n",
       "      <th>100</th>\n",
       "      <td>1</td>\n",
       "      <td>2012-06-01</td>\n",
       "      <td>1550369.92</td>\n",
       "      <td>0</td>\n",
       "      <td>49.01</td>\n",
       "      <td>3.157</td>\n",
       "      <td>219.714258</td>\n",
       "      <td>7.348</td>\n",
       "    </tr>\n",
       "    <tr>\n",
       "      <th>101</th>\n",
       "      <td>1</td>\n",
       "      <td>2012-01-13</td>\n",
       "      <td>1459601.17</td>\n",
       "      <td>0</td>\n",
       "      <td>48.53</td>\n",
       "      <td>3.261</td>\n",
       "      <td>219.892526</td>\n",
       "      <td>7.348</td>\n",
       "    </tr>\n",
       "    <tr>\n",
       "      <th>102</th>\n",
       "      <td>1</td>\n",
       "      <td>2012-01-20</td>\n",
       "      <td>1394393.84</td>\n",
       "      <td>0</td>\n",
       "      <td>54.11</td>\n",
       "      <td>3.268</td>\n",
       "      <td>219.985689</td>\n",
       "      <td>7.348</td>\n",
       "    </tr>\n",
       "    <tr>\n",
       "      <th>103</th>\n",
       "      <td>1</td>\n",
       "      <td>2012-01-27</td>\n",
       "      <td>1319325.59</td>\n",
       "      <td>0</td>\n",
       "      <td>54.26</td>\n",
       "      <td>3.290</td>\n",
       "      <td>220.078852</td>\n",
       "      <td>7.348</td>\n",
       "    </tr>\n",
       "    <tr>\n",
       "      <th>104</th>\n",
       "      <td>1</td>\n",
       "      <td>2012-03-02</td>\n",
       "      <td>1636339.65</td>\n",
       "      <td>0</td>\n",
       "      <td>56.55</td>\n",
       "      <td>3.360</td>\n",
       "      <td>220.172015</td>\n",
       "      <td>7.348</td>\n",
       "    </tr>\n",
       "  </tbody>\n",
       "</table>\n",
       "</div>"
      ],
      "text/plain": [
       "    Store       Date  Weekly_Sales  Holiday_Flag  Temperature  Fuel_Price  \\\n",
       "100     1 2012-06-01    1550369.92             0        49.01       3.157   \n",
       "101     1 2012-01-13    1459601.17             0        48.53       3.261   \n",
       "102     1 2012-01-20    1394393.84             0        54.11       3.268   \n",
       "103     1 2012-01-27    1319325.59             0        54.26       3.290   \n",
       "104     1 2012-03-02    1636339.65             0        56.55       3.360   \n",
       "\n",
       "            CPI  Unemployment  \n",
       "100  219.714258         7.348  \n",
       "101  219.892526         7.348  \n",
       "102  219.985689         7.348  \n",
       "103  220.078852         7.348  \n",
       "104  220.172015         7.348  "
      ]
     },
     "execution_count": 28,
     "metadata": {},
     "output_type": "execute_result"
    }
   ],
   "source": [
    "data_2012.head()"
   ]
  },
  {
   "cell_type": "code",
   "execution_count": 29,
   "metadata": {},
   "outputs": [
    {
     "data": {
      "text/html": [
       "<div>\n",
       "<style scoped>\n",
       "    .dataframe tbody tr th:only-of-type {\n",
       "        vertical-align: middle;\n",
       "    }\n",
       "\n",
       "    .dataframe tbody tr th {\n",
       "        vertical-align: top;\n",
       "    }\n",
       "\n",
       "    .dataframe thead th {\n",
       "        text-align: right;\n",
       "    }\n",
       "</style>\n",
       "<table border=\"1\" class=\"dataframe\">\n",
       "  <thead>\n",
       "    <tr style=\"text-align: right;\">\n",
       "      <th></th>\n",
       "      <th>Store</th>\n",
       "      <th>Weekly_Sales</th>\n",
       "    </tr>\n",
       "  </thead>\n",
       "  <tbody>\n",
       "    <tr>\n",
       "      <th>0</th>\n",
       "      <td>1</td>\n",
       "      <td>18633209.98</td>\n",
       "    </tr>\n",
       "    <tr>\n",
       "      <th>1</th>\n",
       "      <td>2</td>\n",
       "      <td>22396867.61</td>\n",
       "    </tr>\n",
       "    <tr>\n",
       "      <th>2</th>\n",
       "      <td>3</td>\n",
       "      <td>4966495.93</td>\n",
       "    </tr>\n",
       "    <tr>\n",
       "      <th>3</th>\n",
       "      <td>4</td>\n",
       "      <td>25652119.35</td>\n",
       "    </tr>\n",
       "    <tr>\n",
       "      <th>4</th>\n",
       "      <td>5</td>\n",
       "      <td>3880621.88</td>\n",
       "    </tr>\n",
       "  </tbody>\n",
       "</table>\n",
       "</div>"
      ],
      "text/plain": [
       "  Store  Weekly_Sales\n",
       "0     1   18633209.98\n",
       "1     2   22396867.61\n",
       "2     3    4966495.93\n",
       "3     4   25652119.35\n",
       "4     5    3880621.88"
      ]
     },
     "execution_count": 29,
     "metadata": {},
     "output_type": "execute_result"
    }
   ],
   "source": [
    "q3_data = data_2012.loc[(data_2012['Date'].dt.month == 7) | (data_2012['Date'].dt.month == 8 )| (data_2012['Date'].dt.month == 9)]\n",
    "q2_data = data_2012.loc[(data_2012['Date'].dt.month == 4) | (data_2012['Date'].dt.month == 5) | (data_2012['Date'].dt.month == 6)]\n",
    "growth_rate = q3_data.groupby(['Store'])['Weekly_Sales'].sum().reset_index()\n",
    "growth_rate.head()"
   ]
  },
  {
   "cell_type": "code",
   "execution_count": 30,
   "metadata": {},
   "outputs": [
    {
     "data": {
      "text/html": [
       "<div>\n",
       "<style scoped>\n",
       "    .dataframe tbody tr th:only-of-type {\n",
       "        vertical-align: middle;\n",
       "    }\n",
       "\n",
       "    .dataframe tbody tr th {\n",
       "        vertical-align: top;\n",
       "    }\n",
       "\n",
       "    .dataframe thead th {\n",
       "        text-align: right;\n",
       "    }\n",
       "</style>\n",
       "<table border=\"1\" class=\"dataframe\">\n",
       "  <thead>\n",
       "    <tr style=\"text-align: right;\">\n",
       "      <th></th>\n",
       "      <th>Store</th>\n",
       "      <th>Weekly_Sales</th>\n",
       "      <th>Q2_Sales</th>\n",
       "    </tr>\n",
       "  </thead>\n",
       "  <tbody>\n",
       "    <tr>\n",
       "      <th>0</th>\n",
       "      <td>1</td>\n",
       "      <td>18633209.98</td>\n",
       "      <td>21036965.58</td>\n",
       "    </tr>\n",
       "    <tr>\n",
       "      <th>1</th>\n",
       "      <td>2</td>\n",
       "      <td>22396867.61</td>\n",
       "      <td>25085123.61</td>\n",
       "    </tr>\n",
       "    <tr>\n",
       "      <th>2</th>\n",
       "      <td>3</td>\n",
       "      <td>4966495.93</td>\n",
       "      <td>5562668.16</td>\n",
       "    </tr>\n",
       "    <tr>\n",
       "      <th>3</th>\n",
       "      <td>4</td>\n",
       "      <td>25652119.35</td>\n",
       "      <td>28384185.16</td>\n",
       "    </tr>\n",
       "    <tr>\n",
       "      <th>4</th>\n",
       "      <td>5</td>\n",
       "      <td>3880621.88</td>\n",
       "      <td>4427262.21</td>\n",
       "    </tr>\n",
       "  </tbody>\n",
       "</table>\n",
       "</div>"
      ],
      "text/plain": [
       "  Store  Weekly_Sales     Q2_Sales\n",
       "0     1   18633209.98  21036965.58\n",
       "1     2   22396867.61  25085123.61\n",
       "2     3    4966495.93   5562668.16\n",
       "3     4   25652119.35  28384185.16\n",
       "4     5    3880621.88   4427262.21"
      ]
     },
     "execution_count": 30,
     "metadata": {},
     "output_type": "execute_result"
    }
   ],
   "source": [
    "Q2_Sales = q2_data.groupby('Store')['Weekly_Sales'].sum().reset_index()\n",
    "growth_rate['Q2_Sales'] = Q2_Sales['Weekly_Sales']\n",
    "growth_rate.head()"
   ]
  },
  {
   "cell_type": "code",
   "execution_count": 31,
   "metadata": {},
   "outputs": [
    {
     "data": {
      "text/html": [
       "<div>\n",
       "<style scoped>\n",
       "    .dataframe tbody tr th:only-of-type {\n",
       "        vertical-align: middle;\n",
       "    }\n",
       "\n",
       "    .dataframe tbody tr th {\n",
       "        vertical-align: top;\n",
       "    }\n",
       "\n",
       "    .dataframe thead th {\n",
       "        text-align: right;\n",
       "    }\n",
       "</style>\n",
       "<table border=\"1\" class=\"dataframe\">\n",
       "  <thead>\n",
       "    <tr style=\"text-align: right;\">\n",
       "      <th></th>\n",
       "      <th>Store_Number</th>\n",
       "      <th>Q3_Sales</th>\n",
       "      <th>Q2_Sales</th>\n",
       "    </tr>\n",
       "  </thead>\n",
       "  <tbody>\n",
       "    <tr>\n",
       "      <th>0</th>\n",
       "      <td>1</td>\n",
       "      <td>18633209.98</td>\n",
       "      <td>21036965.58</td>\n",
       "    </tr>\n",
       "    <tr>\n",
       "      <th>1</th>\n",
       "      <td>2</td>\n",
       "      <td>22396867.61</td>\n",
       "      <td>25085123.61</td>\n",
       "    </tr>\n",
       "    <tr>\n",
       "      <th>2</th>\n",
       "      <td>3</td>\n",
       "      <td>4966495.93</td>\n",
       "      <td>5562668.16</td>\n",
       "    </tr>\n",
       "    <tr>\n",
       "      <th>3</th>\n",
       "      <td>4</td>\n",
       "      <td>25652119.35</td>\n",
       "      <td>28384185.16</td>\n",
       "    </tr>\n",
       "    <tr>\n",
       "      <th>4</th>\n",
       "      <td>5</td>\n",
       "      <td>3880621.88</td>\n",
       "      <td>4427262.21</td>\n",
       "    </tr>\n",
       "  </tbody>\n",
       "</table>\n",
       "</div>"
      ],
      "text/plain": [
       "  Store_Number     Q3_Sales     Q2_Sales\n",
       "0            1  18633209.98  21036965.58\n",
       "1            2  22396867.61  25085123.61\n",
       "2            3   4966495.93   5562668.16\n",
       "3            4  25652119.35  28384185.16\n",
       "4            5   3880621.88   4427262.21"
      ]
     },
     "execution_count": 31,
     "metadata": {},
     "output_type": "execute_result"
    }
   ],
   "source": [
    "##Renaming the column named\n",
    "growth_rate.rename(columns = {'Store':'Store_Number','Weekly_Sales':'Q3_Sales'},inplace = True)\n",
    "growth_rate.head()"
   ]
  },
  {
   "cell_type": "code",
   "execution_count": 32,
   "metadata": {},
   "outputs": [
    {
     "data": {
      "text/html": [
       "<div>\n",
       "<style scoped>\n",
       "    .dataframe tbody tr th:only-of-type {\n",
       "        vertical-align: middle;\n",
       "    }\n",
       "\n",
       "    .dataframe tbody tr th {\n",
       "        vertical-align: top;\n",
       "    }\n",
       "\n",
       "    .dataframe thead th {\n",
       "        text-align: right;\n",
       "    }\n",
       "</style>\n",
       "<table border=\"1\" class=\"dataframe\">\n",
       "  <thead>\n",
       "    <tr style=\"text-align: right;\">\n",
       "      <th></th>\n",
       "      <th>Store_Number</th>\n",
       "      <th>Q3_Sales</th>\n",
       "      <th>Q2_Sales</th>\n",
       "      <th>Q3_Growth_Rate</th>\n",
       "    </tr>\n",
       "  </thead>\n",
       "  <tbody>\n",
       "    <tr>\n",
       "      <th>15</th>\n",
       "      <td>16</td>\n",
       "      <td>6441311.11</td>\n",
       "      <td>6626133.44</td>\n",
       "      <td>-2.79</td>\n",
       "    </tr>\n",
       "    <tr>\n",
       "      <th>6</th>\n",
       "      <td>7</td>\n",
       "      <td>7322393.92</td>\n",
       "      <td>7613593.92</td>\n",
       "      <td>-3.82</td>\n",
       "    </tr>\n",
       "    <tr>\n",
       "      <th>34</th>\n",
       "      <td>35</td>\n",
       "      <td>10252122.68</td>\n",
       "      <td>10753570.97</td>\n",
       "      <td>-4.66</td>\n",
       "    </tr>\n",
       "  </tbody>\n",
       "</table>\n",
       "</div>"
      ],
      "text/plain": [
       "   Store_Number     Q3_Sales     Q2_Sales  Q3_Growth_Rate\n",
       "15           16   6441311.11   6626133.44           -2.79\n",
       "6             7   7322393.92   7613593.92           -3.82\n",
       "34           35  10252122.68  10753570.97           -4.66"
      ]
     },
     "execution_count": 32,
     "metadata": {},
     "output_type": "execute_result"
    }
   ],
   "source": [
    "##finding the groth rate and sorting according to groth rate \n",
    "growth_rate['Q3_Growth_Rate'] = round(((growth_rate['Q3_Sales']-growth_rate['Q2_Sales'])/growth_rate['Q2_Sales'])*100,2)\n",
    "growth_rate.sort_values('Q3_Growth_Rate',ascending = False,inplace = True)\n",
    "growth_rate.head(3)"
   ]
  },
  {
   "cell_type": "code",
   "execution_count": 33,
   "metadata": {},
   "outputs": [
    {
     "data": {
      "image/png": "[encoded data removed]",
      "text/plain": [
       "<Figure size 1080x360 with 1 Axes>"
      ]
     },
     "metadata": {},
     "output_type": "display_data"
    }
   ],
   "source": [
    "##plotting the bar graph\n",
    "plt.figure(figsize = (15,5))\n",
    "sns.barplot(data = growth_rate,x = 'Store_Number', y = 'Q3_Growth_Rate',order = growth_rate['Store_Number'],\n",
    "           palette = \"icefire\")\n",
    "plt.title('Negative Growth Rate In Q3 of Year 2012\\n ',fontsize = 15)\n",
    "plt.xlabel('Store Numbers',fontsize = 12)\n",
    "plt.ylabel('Negative Growth Rate',fontsize = 12)\n",
    "plt.show()"
   ]
  },
  {
   "cell_type": "code",
   "execution_count": 34,
   "metadata": {
    "scrolled": true
   },
   "outputs": [
    {
     "data": {
      "text/html": [
       "<style  type=\"text/css\" >\n",
       "#T_933cb_row0_col0,#T_933cb_row1_col1,#T_933cb_row2_col2,#T_933cb_row3_col3,#T_933cb_row4_col4,#T_933cb_row5_col5{\n",
       "            background-color:  #b40426;\n",
       "            color:  #f1f1f1;\n",
       "        }#T_933cb_row0_col1{\n",
       "            background-color:  #6f92f3;\n",
       "            color:  #000000;\n",
       "        }#T_933cb_row0_col2,#T_933cb_row1_col3{\n",
       "            background-color:  #536edd;\n",
       "            color:  #000000;\n",
       "        }#T_933cb_row0_col3{\n",
       "            background-color:  #6b8df0;\n",
       "            color:  #000000;\n",
       "        }#T_933cb_row0_col4{\n",
       "            background-color:  #7396f5;\n",
       "            color:  #000000;\n",
       "        }#T_933cb_row0_col5{\n",
       "            background-color:  #6a8bef;\n",
       "            color:  #000000;\n",
       "        }#T_933cb_row1_col0,#T_933cb_row4_col1{\n",
       "            background-color:  #6384eb;\n",
       "            color:  #000000;\n",
       "        }#T_933cb_row1_col2,#T_933cb_row2_col1,#T_933cb_row4_col3,#T_933cb_row4_col5,#T_933cb_row5_col0,#T_933cb_row5_col4{\n",
       "            background-color:  #3b4cc0;\n",
       "            color:  #f1f1f1;\n",
       "        }#T_933cb_row1_col4{\n",
       "            background-color:  #85a8fc;\n",
       "            color:  #000000;\n",
       "        }#T_933cb_row1_col5{\n",
       "            background-color:  #89acfd;\n",
       "            color:  #000000;\n",
       "        }#T_933cb_row2_col0{\n",
       "            background-color:  #455cce;\n",
       "            color:  #f1f1f1;\n",
       "        }#T_933cb_row2_col3{\n",
       "            background-color:  #94b6ff;\n",
       "            color:  #000000;\n",
       "        }#T_933cb_row2_col4{\n",
       "            background-color:  #b6cefa;\n",
       "            color:  #000000;\n",
       "        }#T_933cb_row2_col5{\n",
       "            background-color:  #a2c1ff;\n",
       "            color:  #000000;\n",
       "        }#T_933cb_row3_col0{\n",
       "            background-color:  #5a78e4;\n",
       "            color:  #000000;\n",
       "        }#T_933cb_row3_col1{\n",
       "            background-color:  #4f69d9;\n",
       "            color:  #000000;\n",
       "        }#T_933cb_row3_col2{\n",
       "            background-color:  #90b2fe;\n",
       "            color:  #000000;\n",
       "        }#T_933cb_row3_col4{\n",
       "            background-color:  #5977e3;\n",
       "            color:  #000000;\n",
       "        }#T_933cb_row3_col5{\n",
       "            background-color:  #7da0f9;\n",
       "            color:  #000000;\n",
       "        }#T_933cb_row4_col0{\n",
       "            background-color:  #4358cb;\n",
       "            color:  #f1f1f1;\n",
       "        }#T_933cb_row4_col2{\n",
       "            background-color:  #9abbff;\n",
       "            color:  #000000;\n",
       "        }#T_933cb_row5_col1{\n",
       "            background-color:  #6788ee;\n",
       "            color:  #000000;\n",
       "        }#T_933cb_row5_col2{\n",
       "            background-color:  #82a6fb;\n",
       "            color:  #000000;\n",
       "        }#T_933cb_row5_col3{\n",
       "            background-color:  #5e7de7;\n",
       "            color:  #000000;\n",
       "        }</style><table id=\"T_933cb_\" ><thead>    <tr>        <th class=\"blank level0\" ></th>        <th class=\"col_heading level0 col0\" >Weekly_Sales</th>        <th class=\"col_heading level0 col1\" >Holiday_Flag</th>        <th class=\"col_heading level0 col2\" >Temperature</th>        <th class=\"col_heading level0 col3\" >Fuel_Price</th>        <th class=\"col_heading level0 col4\" >CPI</th>        <th class=\"col_heading level0 col5\" >Unemployment</th>    </tr></thead><tbody>\n",
       "                <tr>\n",
       "                        <th id=\"T_933cb_level0_row0\" class=\"row_heading level0 row0\" >Weekly_Sales</th>\n",
       "                        <td id=\"T_933cb_row0_col0\" class=\"data row0 col0\" >1.000000</td>\n",
       "                        <td id=\"T_933cb_row0_col1\" class=\"data row0 col1\" >0.036891</td>\n",
       "                        <td id=\"T_933cb_row0_col2\" class=\"data row0 col2\" >-0.063810</td>\n",
       "                        <td id=\"T_933cb_row0_col3\" class=\"data row0 col3\" >0.009464</td>\n",
       "                        <td id=\"T_933cb_row0_col4\" class=\"data row0 col4\" >-0.072634</td>\n",
       "                        <td id=\"T_933cb_row0_col5\" class=\"data row0 col5\" >-0.106176</td>\n",
       "            </tr>\n",
       "            <tr>\n",
       "                        <th id=\"T_933cb_level0_row1\" class=\"row_heading level0 row1\" >Holiday_Flag</th>\n",
       "                        <td id=\"T_933cb_row1_col0\" class=\"data row1 col0\" >0.036891</td>\n",
       "                        <td id=\"T_933cb_row1_col1\" class=\"data row1 col1\" >1.000000</td>\n",
       "                        <td id=\"T_933cb_row1_col2\" class=\"data row1 col2\" >-0.155091</td>\n",
       "                        <td id=\"T_933cb_row1_col3\" class=\"data row1 col3\" >-0.078347</td>\n",
       "                        <td id=\"T_933cb_row1_col4\" class=\"data row1 col4\" >-0.002162</td>\n",
       "                        <td id=\"T_933cb_row1_col5\" class=\"data row1 col5\" >0.010960</td>\n",
       "            </tr>\n",
       "            <tr>\n",
       "                        <th id=\"T_933cb_level0_row2\" class=\"row_heading level0 row2\" >Temperature</th>\n",
       "                        <td id=\"T_933cb_row2_col0\" class=\"data row2 col0\" >-0.063810</td>\n",
       "                        <td id=\"T_933cb_row2_col1\" class=\"data row2 col1\" >-0.155091</td>\n",
       "                        <td id=\"T_933cb_row2_col2\" class=\"data row2 col2\" >1.000000</td>\n",
       "                        <td id=\"T_933cb_row2_col3\" class=\"data row2 col3\" >0.144982</td>\n",
       "                        <td id=\"T_933cb_row2_col4\" class=\"data row2 col4\" >0.176888</td>\n",
       "                        <td id=\"T_933cb_row2_col5\" class=\"data row2 col5\" >0.101158</td>\n",
       "            </tr>\n",
       "            <tr>\n",
       "                        <th id=\"T_933cb_level0_row3\" class=\"row_heading level0 row3\" >Fuel_Price</th>\n",
       "                        <td id=\"T_933cb_row3_col0\" class=\"data row3 col0\" >0.009464</td>\n",
       "                        <td id=\"T_933cb_row3_col1\" class=\"data row3 col1\" >-0.078347</td>\n",
       "                        <td id=\"T_933cb_row3_col2\" class=\"data row3 col2\" >0.144982</td>\n",
       "                        <td id=\"T_933cb_row3_col3\" class=\"data row3 col3\" >1.000000</td>\n",
       "                        <td id=\"T_933cb_row3_col4\" class=\"data row3 col4\" >-0.170642</td>\n",
       "                        <td id=\"T_933cb_row3_col5\" class=\"data row3 col5\" >-0.034684</td>\n",
       "            </tr>\n",
       "            <tr>\n",
       "                        <th id=\"T_933cb_level0_row4\" class=\"row_heading level0 row4\" >CPI</th>\n",
       "                        <td id=\"T_933cb_row4_col0\" class=\"data row4 col0\" >-0.072634</td>\n",
       "                        <td id=\"T_933cb_row4_col1\" class=\"data row4 col1\" >-0.002162</td>\n",
       "                        <td id=\"T_933cb_row4_col2\" class=\"data row4 col2\" >0.176888</td>\n",
       "                        <td id=\"T_933cb_row4_col3\" class=\"data row4 col3\" >-0.170642</td>\n",
       "                        <td id=\"T_933cb_row4_col4\" class=\"data row4 col4\" >1.000000</td>\n",
       "                        <td id=\"T_933cb_row4_col5\" class=\"data row4 col5\" >-0.302020</td>\n",
       "            </tr>\n",
       "            <tr>\n",
       "                        <th id=\"T_933cb_level0_row5\" class=\"row_heading level0 row5\" >Unemployment</th>\n",
       "                        <td id=\"T_933cb_row5_col0\" class=\"data row5 col0\" >-0.106176</td>\n",
       "                        <td id=\"T_933cb_row5_col1\" class=\"data row5 col1\" >0.010960</td>\n",
       "                        <td id=\"T_933cb_row5_col2\" class=\"data row5 col2\" >0.101158</td>\n",
       "                        <td id=\"T_933cb_row5_col3\" class=\"data row5 col3\" >-0.034684</td>\n",
       "                        <td id=\"T_933cb_row5_col4\" class=\"data row5 col4\" >-0.302020</td>\n",
       "                        <td id=\"T_933cb_row5_col5\" class=\"data row5 col5\" >1.000000</td>\n",
       "            </tr>\n",
       "    </tbody></table>"
      ],
      "text/plain": [
       "<pandas.io.formats.style.Styler at 0x168a975eeb0>"
      ]
     },
     "execution_count": 34,
     "metadata": {},
     "output_type": "execute_result"
    }
   ],
   "source": [
    "##plotting the corplot\n",
    "corr = walmart_data.corr()\n",
    "corr.style.background_gradient(cmap='coolwarm')\n"
   ]
  },
  {
   "cell_type": "code",
   "execution_count": 35,
   "metadata": {},
   "outputs": [],
   "source": [
    "##pearson's correlation\n",
    "import scipy\n",
    "from scipy.stats import pearsonr"
   ]
  },
  {
   "cell_type": "markdown",
   "metadata": {},
   "source": [
    "###### HYPOTHESIS TESTIG USING PEARSON'S CORRELATION \n",
    "Ho -> They Are Not Correlated\n",
    "Ha -> They Are Correlated"
   ]
  },
  {
   "cell_type": "code",
   "execution_count": 36,
   "metadata": {},
   "outputs": [],
   "source": [
    "def pear(x,y):\n",
    "    stat,p = pearsonr(x,y)\n",
    "    print('coefficient is = '+ str(stat))\n",
    "    print('p value is = '+ str(p))\n",
    "    print('*'*20)\n",
    "    if abs(stat) <=  .10:\n",
    "        print('Negligible correlation')\n",
    "        print('*'*20)\n",
    "    elif abs(stat) > .1 and abs(stat) <= .2:\n",
    "        print('Weak Correlation')\n",
    "        print('*'*20)\n",
    "    elif abs(stat) > .2 and abs(stat) <= .4:\n",
    "        print('Moderate Correlation')\n",
    "        print('*'*20)\n",
    "    elif abs(stat) <= .6 and abs(stat) >.4:\n",
    "        print('Good Correlation')\n",
    "        print('*'*20)\n",
    "    elif abs(stat) >.6:\n",
    "        print('Very Strong Correlation')\n",
    "        print('*'*20)\n",
    "    if p > .05:\n",
    "        print('We are accepting the null hypothesis -> The variables are independent')\n",
    "    else:\n",
    "        print('Rejecting the null hypothesis -> The variabel are dependent')\n",
    "    "
   ]
  },
  {
   "cell_type": "code",
   "execution_count": 37,
   "metadata": {},
   "outputs": [
    {
     "name": "stdout",
     "output_type": "stream",
     "text": [
      "coefficient is = 0.009463786314475135\n",
      "p value is = 0.44782874895250047\n",
      "********************\n",
      "Negligible correlation\n",
      "********************\n",
      "We are accepting the null hypothesis -> The variables are independent\n"
     ]
    }
   ],
   "source": [
    "##Checking for Weekly_Sales and Fuel_Price\n",
    "pear(walmart_data['Weekly_Sales'],walmart_data['Fuel_Price'])"
   ]
  },
  {
   "cell_type": "code",
   "execution_count": 38,
   "metadata": {},
   "outputs": [
    {
     "name": "stdout",
     "output_type": "stream",
     "text": [
      "coefficient is = -0.10617608965795425\n",
      "p value is = 1.3448365210357873e-17\n",
      "********************\n",
      "Weak Correlation\n",
      "********************\n",
      "Rejecting the null hypothesis -> The variabel are dependent\n"
     ]
    }
   ],
   "source": [
    "##Checking for Weekly_Sales and Unemployment\n",
    "pear(walmart_data['Weekly_Sales'],walmart_data['Unemployment'])"
   ]
  },
  {
   "cell_type": "code",
   "execution_count": 39,
   "metadata": {},
   "outputs": [
    {
     "name": "stdout",
     "output_type": "stream",
     "text": [
      "coefficient is = -0.07263416204017627\n",
      "p value is = 5.438292612224682e-09\n",
      "********************\n",
      "Negligible correlation\n",
      "********************\n",
      "Rejecting the null hypothesis -> The variabel are dependent\n"
     ]
    }
   ],
   "source": [
    "##Checking for Weekly_Sales and Unemployment\n",
    "pear(walmart_data['Weekly_Sales'],walmart_data['CPI'])"
   ]
  },
  {
   "cell_type": "code",
   "execution_count": 40,
   "metadata": {},
   "outputs": [
    {
     "name": "stdout",
     "output_type": "stream",
     "text": [
      "coefficient is = -0.33533201479281577\n",
      "p value is = 6.883078341514464e-169\n",
      "********************\n",
      "Moderate Correlation\n",
      "********************\n",
      "Rejecting the null hypothesis -> The variabel are dependent\n"
     ]
    }
   ],
   "source": [
    "##Checking for Weekly_Sales and Unemployment\n",
    "pear(walmart_data['Weekly_Sales'],walmart_data['Store'])"
   ]
  },
  {
   "cell_type": "code",
   "execution_count": 41,
   "metadata": {},
   "outputs": [],
   "source": [
    "walmart_data['Day'] = walmart_data['Date'].dt.day"
   ]
  },
  {
   "cell_type": "code",
   "execution_count": 42,
   "metadata": {},
   "outputs": [],
   "source": [
    "walmart_data['Month'] = walmart_data['Date'].dt.month\n",
    "walmart_data['Year'] = walmart_data['Date'].dt.year"
   ]
  },
  {
   "cell_type": "code",
   "execution_count": 43,
   "metadata": {},
   "outputs": [],
   "source": [
    "walmart_data['Store'] = walmart_data['Store'].astype('int')"
   ]
  },
  {
   "cell_type": "markdown",
   "metadata": {},
   "source": [
    "###### Splitting the data set into train and test"
   ]
  },
  {
   "cell_type": "code",
   "execution_count": 44,
   "metadata": {},
   "outputs": [],
   "source": [
    "from sklearn.model_selection import train_test_split"
   ]
  },
  {
   "cell_type": "code",
   "execution_count": 45,
   "metadata": {},
   "outputs": [],
   "source": [
    "x_train, x_test,y_train, y_test = train_test_split(walmart_data.drop(['Date','Weekly_Sales','Year'],axis =1),walmart_data['Weekly_Sales'],test_size = .2,random_state = 29)"
   ]
  },
  {
   "cell_type": "markdown",
   "metadata": {},
   "source": [
    "###### Building the Multiple Regression Model"
   ]
  },
  {
   "cell_type": "code",
   "execution_count": 46,
   "metadata": {},
   "outputs": [],
   "source": [
    "import xgboost as xgb"
   ]
  },
  {
   "cell_type": "code",
   "execution_count": 47,
   "metadata": {},
   "outputs": [],
   "source": [
    "model = xgb.XGBRegressor()"
   ]
  },
  {
   "cell_type": "code",
   "execution_count": 48,
   "metadata": {},
   "outputs": [
    {
     "data": {
      "text/plain": [
       "XGBRegressor(base_score=0.5, booster='gbtree', colsample_bylevel=1,\n",
       "             colsample_bynode=1, colsample_bytree=1, gamma=0, gpu_id=-1,\n",
       "             importance_type='gain', interaction_constraints='',\n",
       "             learning_rate=0.300000012, max_delta_step=0, max_depth=6,\n",
       "             min_child_weight=1, missing=nan, monotone_constraints='()',\n",
       "             n_estimators=100, n_jobs=8, num_parallel_tree=1, random_state=0,\n",
       "             reg_alpha=0, reg_lambda=1, scale_pos_weight=1, subsample=1,\n",
       "             tree_method='exact', validate_parameters=1, verbosity=None)"
      ]
     },
     "execution_count": 48,
     "metadata": {},
     "output_type": "execute_result"
    }
   ],
   "source": [
    "##fitting the model\n",
    "model.fit(x_train,y_train)"
   ]
  },
  {
   "cell_type": "markdown",
   "metadata": {},
   "source": [
    "###### Prediction"
   ]
  },
  {
   "cell_type": "code",
   "execution_count": 49,
   "metadata": {},
   "outputs": [
    {
     "data": {
      "text/plain": [
       "array([1366955.1 ,  999231.25,  610470.94, ...,  440497.9 , 1152680.9 ,\n",
       "        660510.7 ], dtype=float32)"
      ]
     },
     "execution_count": 49,
     "metadata": {},
     "output_type": "execute_result"
    }
   ],
   "source": [
    "##predicting on x_test\n",
    "pred = model.predict(x_test)\n",
    "pred"
   ]
  },
  {
   "cell_type": "markdown",
   "metadata": {},
   "source": [
    "###### Checking the efficiency"
   ]
  },
  {
   "cell_type": "code",
   "execution_count": 50,
   "metadata": {},
   "outputs": [],
   "source": [
    "#using r2 of sklearn\n",
    "from sklearn.metrics import r2_score"
   ]
  },
  {
   "cell_type": "code",
   "execution_count": 51,
   "metadata": {},
   "outputs": [
    {
     "data": {
      "text/plain": [
       "0.9791017126176282"
      ]
     },
     "execution_count": 51,
     "metadata": {},
     "output_type": "execute_result"
    }
   ],
   "source": [
    "acc = r2_score(y_test,pred)\n",
    "acc"
   ]
  }
 ],
 "metadata": {
  "kernelspec": {
   "display_name": "Python 3",
   "language": "python",
   "name": "python3"
  },
  "language_info": {
   "codemirror_mode": {
    "name": "ipython",
    "version": 3
   },
   "file_extension": ".py",
   "mimetype": "text/x-python",
   "name": "python",
   "nbconvert_exporter": "python",
   "pygments_lexer": "ipython3",
   "version": "3.8.5"
  }
 },
 "nbformat": 4,
 "nbformat_minor": 4
}
